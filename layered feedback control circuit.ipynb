{
 "cells": [
  {
   "cell_type": "markdown",
   "metadata": {},
   "source": [
    "### Layered feedback control circuit "
   ]
  },
  {
   "cell_type": "markdown",
   "metadata": {},
   "source": [
    " $P_1 + I_1 \\quad [d_1]<->[a_1] \\quad C_1, \\qquad C_1 + I_1 \\quad [d_2]<->[a_2] \\quad C_2 \\\\\n",
    "    C_2 + T \\quad [d_3]<->[a_3]\\quad  A_T, \\qquad R + A_T \\quad -->[k_1]\\quad  T \\\\\n",
    "    A_T  -->[\\beta_A] \\quad M_S, \\qquad M_S -->[d_M] \\quad  \\varnothing\\\\\n",
    "    M_S  -->[k_{tl}]\\quad  M_S + S, \\qquad S -->[d_S]\\quad \\varnothing  \\\\\n",
    "    S  -->[k_r]\\quad  S^*, \\qquad S^* -->[d_{S^*}] \\quad \\varnothing \\\\\n",
    "     S + I_2 \\quad [d_4]<->[a_4]\\quad  C_C^, \\qquad C_C + T \\quad [d_5]<->[a_5]\\quad  A_C \\\\\n",
    "    R + A_C \\quad -->[k_2]\\quad  T \\\\\n",
    "    A_C  -->[\\beta_C]\\quad R , \\qquad R -->[d_R]\\quad  \\varnothing\\\\\n",
    "    M_G  -->[k_{G}]\\quad  M_G + G, \\qquad G -->[d_G]\\quad\\varnothing \\\\\n",
    "    G  -->[k_{r_2}] \\quad G^*, \\qquad G^* -->[d_{G^*}]\\quad \\varnothing $"
   ]
  },
  {
   "cell_type": "code",
   "execution_count": 4,
   "metadata": {},
   "outputs": [],
   "source": [
    "%matplotlib inline\n",
    "from IPython.core.interactiveshell import InteractiveShell\n",
    "InteractiveShell.ast_node_interactivity = \"all\"\n",
    "\n",
    "from auto_reduce import *\n",
    "import numpy as np\n",
    "from sympy import symbols"
   ]
  },
  {
   "cell_type": "code",
   "execution_count": 2,
   "metadata": {},
   "outputs": [
    {
     "ename": "NameError",
     "evalue": "name 'C1' is not defined",
     "output_type": "error",
     "traceback": [
      "\u001b[1;31m---------------------------------------------------------------------------\u001b[0m",
      "\u001b[1;31mNameError\u001b[0m                                 Traceback (most recent call last)",
      "\u001b[1;32m<ipython-input-2-917806228e1d>\u001b[0m in \u001b[0;36m<module>\u001b[1;34m\u001b[0m\n\u001b[0;32m     69\u001b[0m \u001b[1;33m\u001b[0m\u001b[0m\n\u001b[0;32m     70\u001b[0m \u001b[1;31m# Number of states : P, A_T, C1, T, R, C2, M_S, S, Ss, I_2, C_C, A_C, M_G, G, Gs\u001b[0m\u001b[1;33m\u001b[0m\u001b[1;33m\u001b[0m\u001b[1;33m\u001b[0m\u001b[0m\n\u001b[1;32m---> 71\u001b[1;33m \u001b[0mf0\u001b[0m \u001b[1;33m=\u001b[0m \u001b[0md1\u001b[0m\u001b[1;33m*\u001b[0m\u001b[0mC1\u001b[0m \u001b[1;33m-\u001b[0m \u001b[0ma1\u001b[0m\u001b[1;33m*\u001b[0m\u001b[0mP\u001b[0m\u001b[1;33m*\u001b[0m\u001b[0mu\u001b[0m \u001b[1;31m#P\u001b[0m\u001b[1;33m\u001b[0m\u001b[1;33m\u001b[0m\u001b[0m\n\u001b[0m\u001b[0;32m     72\u001b[0m \u001b[0mf1\u001b[0m \u001b[1;33m=\u001b[0m \u001b[0ma3\u001b[0m\u001b[1;33m*\u001b[0m\u001b[0mC2\u001b[0m\u001b[1;33m*\u001b[0m\u001b[0mT\u001b[0m \u001b[1;33m-\u001b[0m \u001b[0md3\u001b[0m\u001b[1;33m*\u001b[0m\u001b[0mA_T\u001b[0m \u001b[1;33m-\u001b[0m \u001b[0mk1\u001b[0m \u001b[1;33m*\u001b[0m\u001b[0mR\u001b[0m\u001b[1;33m*\u001b[0m\u001b[0mA_T\u001b[0m \u001b[1;33m-\u001b[0m \u001b[0mb_A\u001b[0m\u001b[1;33m*\u001b[0m\u001b[0mA_T\u001b[0m \u001b[1;31m#A_T\u001b[0m\u001b[1;33m\u001b[0m\u001b[1;33m\u001b[0m\u001b[0m\n\u001b[0;32m     73\u001b[0m \u001b[0mf2\u001b[0m \u001b[1;33m=\u001b[0m \u001b[0ma1\u001b[0m\u001b[1;33m*\u001b[0m\u001b[0mP\u001b[0m\u001b[1;33m*\u001b[0m\u001b[0mu\u001b[0m \u001b[1;33m+\u001b[0m \u001b[0md2\u001b[0m\u001b[1;33m*\u001b[0m\u001b[0mC2\u001b[0m \u001b[1;33m-\u001b[0m \u001b[0md1\u001b[0m\u001b[1;33m*\u001b[0m\u001b[0mC1\u001b[0m \u001b[1;33m-\u001b[0m \u001b[0ma2\u001b[0m\u001b[1;33m*\u001b[0m\u001b[0mC1\u001b[0m\u001b[1;33m*\u001b[0m\u001b[0mu\u001b[0m \u001b[1;31m#C1\u001b[0m\u001b[1;33m\u001b[0m\u001b[1;33m\u001b[0m\u001b[0m\n",
      "\u001b[1;31mNameError\u001b[0m: name 'C1' is not defined"
     ]
    }
   ],
   "source": [
    "# Post conservation law and other approximations phenomenological model at the RNA level\n",
    "n = 15 # Number of states : P, A_T, C1, T, R, C2, M_S, S, Ss, I_2, C_C, A_C, M_G, G, Gs\n",
    "nouts = 1 # Number of outputs, Gs\n",
    "\n",
    "# Inputs by user \n",
    "x_init = np.zeros(n)\n",
    "x_init[0] = 10\n",
    "x_init[1] = 10000\n",
    "x_init[4] = 10000\n",
    "x_init[6] = 10000\n",
    "C = np.zeros((nouts,n), dtype=int)\n",
    "C[0][13] = 1\n",
    "\n",
    "nstates_tol = 8\n",
    "error_tol = 30000\n",
    "# System dynamics symbolically\n",
    "\n",
    "x0 = symbols('P')\n",
    "x1 = symbols('A_T')\n",
    "x2 = symbols('C1') # P:I1\n",
    "x3 = symbols('T')\n",
    "x4 = symbols('R')\n",
    "x5 = symbols('C2') # C1:I1\n",
    "x6 = symbols('M_S')\n",
    "x7 = symbols('S') \n",
    "x8 = symbols('Ss')\n",
    "\n",
    "x9 = symbols('I2')\n",
    "x10 = symbols('C_C')\n",
    "x11 = symbols('A_C') \n",
    "x12 = symbols('M_G')\n",
    "x13 = symbols('G')\n",
    "x14 = symbols('Gs') \n",
    "x = [x0, x1, x2, x3, x4, x5, x6, x7, x8, x9, x10, x11, x12, x13, x14]\n",
    "\n",
    "\n",
    "a1 = symbols('a1')\n",
    "d1 = symbols('d1')\n",
    "a2 = symbols('a2')\n",
    "d2 = symbols('d2')\n",
    "a3 = symbols('a3')\n",
    "d3 = symbols('d3')\n",
    "k1 = symbols('k1')\n",
    "b_A = symbols('b_A')\n",
    "d_M = symbols('d_M')\n",
    "k_tl = symbols('k_tl')\n",
    "d_S = symbols('d_S')\n",
    "k_r = symbols('k_r')\n",
    "d_Ss = symbols('d_Ss')\n",
    "a4 = symbols('a4')\n",
    "d4 = symbols('d4')\n",
    "a5 = symbols('a5')\n",
    "d5 = symbols('d5')\n",
    "k2 = symbols('k2')\n",
    "b_C = symbols('b_C')\n",
    "d_R = symbols('d_R')\n",
    "k_G = symbols('k_G')\n",
    "d_G = symbols('d_G')\n",
    "d_Gs = symbols('d_Gs')\n",
    "k_r2 = symbols('k_r2')\n",
    "\n",
    "\n",
    "T_tot = symbols('T_tot')\n",
    "# P_tot = symbols('P_tot')\n",
    "# R_tot = symbols('R_tot')\n",
    "\n",
    "u = symbols('I1')\n",
    "params = [a1,d1,a2,d2,a3,d3,k1,b_A,d_M,k_tl,d_S,k_r,d_Ss,a4,d4,a5,d5,k2,b_C,d_R,k_G,d_G,d_Gs,k_r2, T_tot]\n",
    "\n",
    "# Number of states : P, A_T, C1, T, R, C2, M_S, S, Ss, I_2, C_C, A_C, M_G, G, Gs\n",
    "f0 = d1*C1 - a1*P*u #P\n",
    "f1 = a3*C2*T - d3*A_T - k1 *R*A_T - b_A*A_T #A_T\n",
    "f2 = a1*P*u + d2*C2 - d1*C1 - a2*C1*u #C1\n",
    "f3 = d3*A_T - a3*C2*T + k1*R*A_T #T\n",
    "f4 = b_C*A_C - k1*R*A_T - k2*R*A_C - d_R*R #R\n",
    "f5 = a2*C1*u + d3*A_T - d2*C2 - a3*C2*T #C2\n",
    "f6 = b_A*A_T - d_M*M_S #M_S\n",
    "f7 = k_tl*M_S - d_S*S - k_r*S #S\n",
    "f8 = k_r*S - d_S*Ss # Ss\n",
    "f9 = a4*C_C - d4*S*I2 #I_2\n",
    "f10 = a4*S*I2 + d5*A_C - d_4*C_C - a5*C_C*T #C_C\n",
    "f11 = a5*C_C*T - d5*A_C - k2*R*A_C - b_C*A_C #A_C\n",
    "f12 = f6 #M_G\n",
    "f13 = k_G*M_G - d_G*G - k_r2*G #G\n",
    "f14 = k_r2*G - d_Gs*Gs #Gs\n",
    "\n",
    "f = [f0,f1,f2,f3,f4,f5,f6,f7,f8,f9,f10,f11,f12,f13,f14]\n",
    "# parameter values\n",
    "params_values = [100, 10, 4, 10, 0.25, 2, 10, 0.5, 1, 1, 1000, 1000, 1000]\n",
    "sys = System(x, f, params = params, params_values = params_values, C = C, x_init = x_init)"
   ]
  },
  {
   "cell_type": "code",
   "execution_count": 5,
   "metadata": {},
   "outputs": [],
   "source": [
    "\n",
    "a1 = symbols('a1')\n",
    "d1 = symbols('d1')\n",
    "a2 = symbols('a2')\n",
    "ff = a1*d1"
   ]
  },
  {
   "cell_type": "code",
   "execution_count": 8,
   "metadata": {},
   "outputs": [],
   "source": [
    "ans1 = list(ff.free_symbols)"
   ]
  },
  {
   "cell_type": "code",
   "execution_count": 9,
   "metadata": {},
   "outputs": [],
   "source": [
    "ans2 = [a1]"
   ]
  },
  {
   "cell_type": "code",
   "execution_count": null,
   "metadata": {},
   "outputs": [],
   "source": []
  }
 ],
 "metadata": {
  "kernelspec": {
   "display_name": "Python 3",
   "language": "python",
   "name": "python3"
  },
  "language_info": {
   "codemirror_mode": {
    "name": "ipython",
    "version": 3
   },
   "file_extension": ".py",
   "mimetype": "text/x-python",
   "name": "python",
   "nbconvert_exporter": "python",
   "pygments_lexer": "ipython3",
   "version": "3.7.4"
  }
 },
 "nbformat": 4,
 "nbformat_minor": 2
}
