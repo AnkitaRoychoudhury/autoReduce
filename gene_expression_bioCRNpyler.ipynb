{
 "cells": [
  {
   "cell_type": "markdown",
   "metadata": {},
   "source": [
    "  $G_i + P \\quad[k^{b_P}_i]<->[k^{u_P}_i] \\quad  G_i:P \\\\\n",
    "    G_i:P \\quad  --> [k_i^{tx}] \\quad  G_i + P + T_i \\\\\n",
    "    T_i + R \\quad  [k^{b_R}_i]<->[k^{u_R}_i]\\quad   T_i:R \\\\\n",
    "    T_i:R  \\quad -->[k_i^{tl}]\\quad T_i + R + X_i \\\\\n",
    "    T_i + E \\quad  [k^{b_E}_i]<->[k^{u_E}_i] \\quad  T_i:E \\\\\n",
    "    T_i:E \\quad-->[\\delta_i]\\quad E \\\\\n",
    "    X \\quad-->[d]\\quad $"
   ]
  },
  {
   "cell_type": "code",
   "execution_count": 1,
   "metadata": {},
   "outputs": [],
   "source": [
    "%matplotlib inline\n",
    "from auto_reduce import *\n",
    "import numpy as np\n",
    "from sympy import symbols"
   ]
  },
  {
   "cell_type": "code",
   "execution_count": 2,
   "metadata": {},
   "outputs": [],
   "source": [
    "# Post conservation law and other approximations phenomenological model at the RNA level\n",
    "n = 9 # Number of states : G, P, C1, T, R, C2, E, C3, X\n",
    "nouts = 1 # Number of outputs, X_i\n",
    "\n",
    "# Inputs by user \n",
    "x_init = np.zeros(n)\n",
    "x_init[0] = 10\n",
    "x_init[1] = 10000\n",
    "x_init[4] = 10000\n",
    "x_init[6] = 10000\n",
    "C = np.zeros( (n, nouts) )\n",
    "C = np.zeros((nouts,n), dtype=int)\n",
    "C[0][8] = 1\n",
    "C = C.tolist()\n",
    "\n",
    "nstates_tol = 8\n",
    "error_tol = 3000\n",
    "# System dynamics symbolically\n",
    "\n",
    "# k_bp, k_up, k_tx, k_br, k_ur, k_tl, k_be, k_ue, d_i, d = params, len(params) = 10\n",
    "\n",
    "x0 = symbols('G')\n",
    "x1 = symbols('P')\n",
    "x2 = symbols('C1') # G:P\n",
    "x3 = symbols('T')\n",
    "x4 = symbols('R')\n",
    "x5 = symbols('C2') # T:R\n",
    "x6 = symbols('E')\n",
    "x7 = symbols('C3') # T:E\n",
    "x8 = symbols('X')\n",
    "\n",
    "x = [x0, x1, x2, x3, x4, x5, x6, x7, x8]\n",
    "\n",
    "k_bp = symbols('k_bp')\n",
    "k_up = symbols('k_up')\n",
    "k_tx = symbols('k_tx')\n",
    "k_br = symbols('k_br')\n",
    "k_ur = symbols('k_ur')\n",
    "k_tl = symbols('k_tl')\n",
    "k_be = symbols('k_be')\n",
    "k_ue = symbols('k_ue')\n",
    "d_i = symbols('d_i')\n",
    "d = symbols('d')\n",
    "params = [k_bp, k_up, k_tx, k_br, k_ur, k_tl, k_be, k_ue, d_i, d]\n",
    "f0 = (k_bp + k_tx) * x2 - k_up * x0 * x1\n",
    "f1 = (k_bp + k_tx) * x2 - k_up * x0 * x1\n",
    "f2 = k_bp * x0 * x1 - (k_up + k_tx)*x2\n",
    "f3 = k_tx * x2 + k_ur * x5 - k_br * x3 * x4\n",
    "f4 = (k_ur + k_tl) * x5 - k_br * x3 * x4\n",
    "f5 = k_br * x3 * x4 - (k_ur + k_tl) * x5\n",
    "f6 = (k_ue + d_i) * x7 - k_be * x3 * x6\n",
    "f7 = k_be * x3 * x6 - (k_ue + d_i) * x7\n",
    "f8 = k_tl * x5 - d * x8\n",
    "    \n",
    "f = [f0,f1,f2,f3,f4,f5,f6,f7,f8]\n",
    "# parameter values\n",
    "params_values = [100, 10, 4, 10, 0.25, 2, 10, 0.5, 1, 0.1]\n",
    "sys = System(x, f, params = params, params_values = params_values, C = C, x_init = x_init)"
   ]
  },
  {
   "cell_type": "code",
   "execution_count": 3,
   "metadata": {},
   "outputs": [
    {
     "name": "stderr",
     "output_type": "stream",
     "text": [
      "C:\\Users\\apand\\AppData\\Local\\Continuum\\anaconda3\\lib\\site-packages\\scipy\\integrate\\odepack.py:247: ODEintWarning: Excess work done on this call (perhaps wrong Dfun type). Run with full_output = 1 to get quantitative information.\n",
      "  warnings.warn(warning_msg, ODEintWarning)\n"
     ]
    },
    {
     "data": {
      "image/png": "[encoded data removed]",
      "text/plain": [
       "<Figure size 432x288 with 1 Axes>"
      ]
     },
     "metadata": {
      "needs_background": "light"
     },
     "output_type": "display_data"
    }
   ],
   "source": [
    "from auto_reduce.utils import get_ODE\n",
    "timepoints_ode = np.linspace(0, 10, 10)\n",
    "sys_ode = get_ODE(sys, timepoints_ode)\n",
    "sol = sys_ode.solve_system().T\n",
    "import matplotlib.pyplot as plt\n",
    "plt.plot(timepoints_ode, np.transpose(np.array(C)@sol))\n",
    "plt.xlabel('Time')\n",
    "plt.ylabel('[Outputs]')\n",
    "plt.show()"
   ]
  },
  {
   "cell_type": "code",
   "execution_count": 5,
   "metadata": {},
   "outputs": [
    {
     "name": "stdout",
     "output_type": "stream",
     "text": [
      "\r",
      "SSM Progress: |█████---------------------------------------------| 10.1% Complete\r"
     ]
    },
    {
     "name": "stderr",
     "output_type": "stream",
     "text": [
      "C:\\Users\\apand\\synBio\\auto_reduce\\auto_reduce\\local_sensitivity.py:115: RuntimeWarning: invalid value encountered in matmul\n",
      "  dsdt = J@x + Z\n",
      "C:\\Users\\apand\\AppData\\Local\\Continuum\\anaconda3\\lib\\site-packages\\scipy\\integrate\\odepack.py:247: ODEintWarning: Excess accuracy requested (tolerances too small). Run with full_output = 1 to get quantitative information.\n",
      "  warnings.warn(warning_msg, ODEintWarning)\n"
     ]
    },
    {
     "name": "stdout",
     "output_type": "stream",
     "text": [
      "SSM Progress: |████████████████████████--------------------------| 49.5% Complete\r"
     ]
    },
    {
     "name": "stderr",
     "output_type": "stream",
     "text": [
      "C:\\Users\\apand\\synBio\\auto_reduce\\auto_reduce\\local_sensitivity.py:100: RuntimeWarning: invalid value encountered in add\n",
      "  J[i,j]= (-F[0] + 8*F[1] - 8*F[2] + F[3])/(12*h)\n"
     ]
    },
    {
     "name": "stdout",
     "output_type": "stream",
     "text": [
      "\r",
      "SSM Progress: |█████████████████████████-------------------------| 50.5% Complete\r"
     ]
    },
    {
     "name": "stderr",
     "output_type": "stream",
     "text": [
      "C:\\Users\\apand\\synBio\\auto_reduce\\auto_reduce\\local_sensitivity.py:60: RuntimeWarning: invalid value encountered in add\n",
      "  Z[i] = (-F[0] + 8*F[1] - 8*F[2] + F[3])/(12*h)\n"
     ]
    },
    {
     "name": "stdout",
     "output_type": "stream",
     "text": [
      "SSM Progress: |██████████████████████████------------------------| 53.5% Complete\r"
     ]
    },
    {
     "name": "stderr",
     "output_type": "stream",
     "text": [
      "C:\\Users\\apand\\AppData\\Local\\Continuum\\anaconda3\\lib\\site-packages\\scipy\\integrate\\odepack.py:247: ODEintWarning: Illegal input detected (internal error). Run with full_output = 1 to get quantitative information.\n",
      "  warnings.warn(warning_msg, ODEintWarning)\n"
     ]
    },
    {
     "name": "stdout",
     "output_type": "stream",
     "text": [
      "SSM Progress: |████████████████████████████████████--------------| 73.7% Complete\r"
     ]
    },
    {
     "name": "stderr",
     "output_type": "stream",
     "text": [
      "C:\\Users\\apand\\synBio\\auto_reduce\\auto_reduce\\local_sensitivity.py:115: RuntimeWarning: overflow encountered in matmul\n",
      "  dsdt = J@x + Z\n"
     ]
    },
    {
     "name": "stdout",
     "output_type": "stream",
     "text": [
      "SSM Progress: |█████████████████████████████████████████████-----| 90.9% Complete\r"
     ]
    },
    {
     "name": "stderr",
     "output_type": "stream",
     "text": [
      "C:\\Users\\apand\\AppData\\Local\\Continuum\\anaconda3\\lib\\site-packages\\scipy\\integrate\\odepack.py:247: ODEintWarning: Repeated convergence failures (perhaps bad Jacobian or tolerances). Run with full_output = 1 to get quantitative information.\n",
      "  warnings.warn(warning_msg, ODEintWarning)\n"
     ]
    },
    {
     "name": "stdout",
     "output_type": "stream",
     "text": [
      "SSM Progress: |██████████████████████████████████████████████████| 100.0% Complete\n"
     ]
    },
    {
     "name": "stderr",
     "output_type": "stream",
     "text": [
      "C:\\Users\\apand\\AppData\\Local\\Continuum\\anaconda3\\lib\\site-packages\\ipykernel_launcher.py:7: RuntimeWarning: invalid value encountered in matmul\n",
      "  import sys\n"
     ]
    }
   ],
   "source": [
    "from auto_reduce.utils import get_SSM\n",
    "timepoints_ssm = np.linspace(0,100,10)\n",
    "sys_ssm = get_SSM(sys, timepoints_ssm)\n",
    "Ss = sys_ssm.compute_SSM() # len(timepoints) x len(params) x len(states)\n",
    "out_Ss = []\n",
    "for i in range(len(params)):\n",
    "    out_Ss.append((np.array(C)@(Ss[:,i,:].T)))\n",
    "out_Ss = np.reshape(np.array(out_Ss), (len(timepoints_ssm), len(params), nouts))"
   ]
  },
  {
   "cell_type": "code",
   "execution_count": 6,
   "metadata": {},
   "outputs": [
    {
     "data": {
      "image/png": "[encoded data removed]",
      "text/plain": [
       "<Figure size 432x288 with 2 Axes>"
      ]
     },
     "metadata": {
      "needs_background": "light"
     },
     "output_type": "display_data"
    }
   ],
   "source": [
    "import seaborn as sn\n",
    "import matplotlib.pyplot as plt\n",
    "for j in range(nouts):\n",
    "    sn.heatmap(out_Ss[:,:,j].T)\n",
    "    plt.xlabel('Time')\n",
    "    plt.ylabel('Parameters')\n",
    "    plt.title('Sensitivity of output[{0}] with respect to all parameters'.format(j))\n",
    "    plt.show()"
   ]
  },
  {
   "cell_type": "code",
   "execution_count": 3,
   "metadata": {},
   "outputs": [
    {
     "name": "stdout",
     "output_type": "stream",
     "text": [
      "attempting : [8]\n"
     ]
    },
    {
     "name": "stderr",
     "output_type": "stream",
     "text": [
      "C:\\Users\\apand\\AppData\\Local\\Continuum\\anaconda3\\lib\\site-packages\\scipy\\integrate\\odepack.py:247: ODEintWarning: Excess work done on this call (perhaps wrong Dfun type). Run with full_output = 1 to get quantitative information.\n",
      "  warnings.warn(warning_msg, ODEintWarning)\n"
     ]
    },
    {
     "name": "stdout",
     "output_type": "stream",
     "text": [
      "attempting : [0, 8]\n",
      "attempting : [1, 8]\n",
      "attempting : [2, 8]\n",
      "attempting : [3, 8]\n",
      "attempting : [4, 8]\n",
      "attempting : [5, 8]\n",
      "attempting : [6, 8]\n",
      "attempting : [7, 8]\n",
      "attempting : [0, 1, 8]\n",
      "attempting : [0, 2, 8]\n",
      "attempting : [0, 3, 8]\n",
      "attempting : [0, 4, 8]\n",
      "attempting : [0, 5, 8]\n",
      "attempting : [0, 6, 8]\n",
      "attempting : [0, 7, 8]\n",
      "attempting : [1, 2, 8]\n",
      "attempting : [1, 3, 8]\n",
      "attempting : [1, 4, 8]\n",
      "attempting : [1, 5, 8]\n",
      "attempting : [1, 6, 8]\n",
      "attempting : [1, 7, 8]\n",
      "attempting : [2, 3, 8]\n",
      "attempting : [2, 4, 8]\n",
      "attempting : [2, 5, 8]\n",
      "SSM Progress: |██████████████████████████████████████████████████| 100.0% Complete\n",
      "SSM Progress: |██████████████████████████████████████████████████| 100.0% Complete\n"
     ]
    },
    {
     "name": "stderr",
     "output_type": "stream",
     "text": [
      "C:\\Users\\apand\\synBio\\auto_reduce\\auto_reduce\\local_sensitivity.py:100: RuntimeWarning: overflow encountered in true_divide\n",
      "  J[i,j]= (-F[0] + 8*F[1] - 8*F[2] + F[3])/(12*h)\n",
      "C:\\Users\\apand\\synBio\\auto_reduce\\auto_reduce\\local_sensitivity.py:100: RuntimeWarning: invalid value encountered in add\n",
      "  J[i,j]= (-F[0] + 8*F[1] - 8*F[2] + F[3])/(12*h)\n"
     ]
    },
    {
     "name": "stdout",
     "output_type": "stream",
     "text": [
      "attempting : [2, 6, 8]\n",
      "attempting : [2, 7, 8]\n",
      "attempting : [3, 4, 8]\n",
      "attempting : [3, 5, 8]\n",
      "attempting : [3, 6, 8]\n",
      "attempting : [3, 7, 8]\n",
      "attempting : [4, 5, 8]\n",
      "attempting : [4, 6, 8]\n",
      "attempting : [4, 7, 8]\n",
      "attempting : [5, 6, 8]\n",
      "attempting : [5, 7, 8]\n",
      "attempting : [6, 7, 8]\n",
      "attempting : [0, 1, 2, 8]\n",
      "attempting : [0, 1, 3, 8]\n",
      "attempting : [0, 1, 4, 8]\n",
      "attempting : [0, 1, 5, 8]\n",
      "SSM Progress: |███████████████-----------------------------------| 31.3% Complete\r"
     ]
    },
    {
     "name": "stderr",
     "output_type": "stream",
     "text": [
      "C:\\Users\\apand\\AppData\\Local\\Continuum\\anaconda3\\lib\\site-packages\\scipy\\integrate\\odepack.py:247: ODEintWarning: Excess accuracy requested (tolerances too small). Run with full_output = 1 to get quantitative information.\n",
      "  warnings.warn(warning_msg, ODEintWarning)\n"
     ]
    },
    {
     "name": "stdout",
     "output_type": "stream",
     "text": [
      "SSM Progress: |██████████████████████████████████████████████████| 100.0% Complete\n",
      "SSM Progress: |██████████████████████████████████████████████████| 100.0% Complete\n",
      "attempting : [0, 1, 6, 8]\n",
      "attempting : [0, 1, 7, 8]\n",
      "attempting : [0, 2, 3, 8]\n",
      "attempting : [0, 2, 4, 8]\n",
      "attempting : [0, 2, 5, 8]\n",
      "The error is zero or NaN, something wrong...continuing.\n",
      "SSM Progress: |██████████████████████████████████████████████████| 100.0% Complete\n",
      "SSM Progress: |██████████████████████████████████████████████████| 100.0% Complete\n",
      "attempting : [0, 2, 6, 8]\n",
      "attempting : [0, 2, 7, 8]\n",
      "attempting : [0, 3, 4, 8]\n",
      "attempting : [0, 3, 5, 8]\n",
      "attempting : [0, 3, 6, 8]\n",
      "attempting : [0, 3, 7, 8]\n",
      "attempting : [0, 4, 5, 8]\n",
      "attempting : [0, 4, 6, 8]\n",
      "attempting : [0, 4, 7, 8]\n",
      "attempting : [0, 5, 6, 8]\n",
      "attempting : [0, 5, 7, 8]\n",
      "attempting : [0, 6, 7, 8]\n",
      "attempting : [1, 2, 3, 8]\n",
      "attempting : [1, 2, 4, 8]\n",
      "attempting : [1, 2, 5, 8]\n",
      "The error is zero or NaN, something wrong...continuing.\n",
      "SSM Progress: |██████████████████████████████████████████████████| 100.0% Complete\n",
      "SSM Progress: |██████████████████████████████████████████████████| 100.0% Complete\n",
      "attempting : [1, 2, 6, 8]\n",
      "attempting : [1, 2, 7, 8]\n",
      "attempting : [1, 3, 4, 8]\n",
      "attempting : [1, 3, 5, 8]\n",
      "attempting : [1, 3, 6, 8]\n",
      "attempting : [1, 3, 7, 8]\n",
      "attempting : [1, 4, 5, 8]\n",
      "attempting : [1, 4, 6, 8]\n",
      "attempting : [1, 4, 7, 8]\n",
      "attempting : [1, 5, 6, 8]\n",
      "attempting : [1, 5, 7, 8]\n",
      "attempting : [1, 6, 7, 8]\n",
      "attempting : [2, 3, 4, 8]\n",
      "The error is zero or NaN, something wrong...continuing.\n",
      "SSM Progress: |██████████████████████████████████████████████████| 100.0% Complete\n",
      "SSM Progress: |██████████████████████████████████████████████████| 100.0% Complete\n",
      "attempting : [2, 3, 5, 8]\n",
      "SSM Progress: |██████████████████████████████████████████████████| 100.0% Complete\n",
      "SSM Progress: |██████████████████████████████████████████████████| 100.0% Complete\n",
      "attempting : [2, 3, 6, 8]\n",
      "attempting : [2, 3, 7, 8]\n",
      "attempting : [2, 4, 5, 8]\n",
      "The error is zero or NaN, something wrong...continuing.\n",
      "SSM Progress: |██████████████████████████████████████████████████| 100.0% Complete\n",
      "SSM Progress: |██████████████████████████████████████████████████| 100.0% Complete\n",
      "attempting : [2, 4, 6, 8]\n",
      "attempting : [2, 4, 7, 8]\n",
      "attempting : [2, 5, 6, 8]\n",
      "attempting : [2, 5, 7, 8]\n"
     ]
    },
    {
     "name": "stderr",
     "output_type": "stream",
     "text": [
      "<string>:4: RuntimeWarning: invalid value encountered in double_scalars\n",
      "<string>:4: RuntimeWarning: invalid value encountered in double_scalars\n"
     ]
    },
    {
     "name": "stdout",
     "output_type": "stream",
     "text": [
      "The error is zero or NaN, something wrong...continuing.\n",
      "SSM Progress: |██████████████████████████████████████████████████| 100.0% Complete\n"
     ]
    },
    {
     "name": "stderr",
     "output_type": "stream",
     "text": [
      "<string>:4: RuntimeWarning: invalid value encountered in double_scalars\n"
     ]
    },
    {
     "name": "stdout",
     "output_type": "stream",
     "text": [
      "SSM Progress: |██████████████████████████████████████████████████| 100.0% Complete\n"
     ]
    },
    {
     "name": "stderr",
     "output_type": "stream",
     "text": [
      "C:\\Users\\apand\\AppData\\Local\\Continuum\\anaconda3\\lib\\site-packages\\scipy\\linalg\\_solvers.py:196: RuntimeWarning: Input \"a\" has an eigenvalue pair whose sum is very close to or exactly zero. The solution is obtained via perturbing the coefficients.\n",
      "  RuntimeWarning)\n",
      "C:\\Users\\apand\\synBio\\auto_reduce\\auto_reduce\\model_reduction.py:176: ComplexWarning: Casting complex values to real discards the imaginary part\n",
      "  Se[j] = max_eigP + 2*len(reduced_ssm.timepoints)*S_metric_max\n"
     ]
    },
    {
     "name": "stdout",
     "output_type": "stream",
     "text": [
      "attempting : [2, 6, 7, 8]s: |████████████████████████--------------------------| 49.5% Complete\n",
      "attempting : [3, 4, 5, 8]\n",
      "attempting : [3, 4, 6, 8]\n",
      "attempting : [3, 4, 7, 8]\n",
      "attempting : [3, 5, 6, 8]\n",
      "attempting : [3, 5, 7, 8]\n",
      "attempting : [3, 6, 7, 8]\n",
      "attempting : [4, 5, 6, 8]\n",
      "attempting : [4, 5, 7, 8]\n",
      "attempting : [4, 6, 7, 8]\n",
      "attempting : [5, 6, 7, 8]\n",
      "attempting : [0, 1, 2, 3, 8]\n",
      "attempting : [0, 1, 2, 4, 8]\n",
      "attempting : [0, 1, 2, 5, 8]\n",
      "SSM Progress: |██████████████████████████████████████████████████| 100.0% Complete\n",
      "SSM Progress: |██████████████████████████████████████████████████| 100.0% Complete\n",
      "attempting : [0, 1, 2, 6, 8]|█████████-----------------------------------------| 19.2% Complete\n",
      "attempting : [0, 1, 2, 7, 8]\n",
      "attempting : [0, 1, 3, 4, 8]\n",
      "SSM Progress: |██████████████████████████████████████████████████| 100.0% Complete\n",
      "SSM Progress: |█████████████-------------------------------------| 27.3% Complete\r"
     ]
    },
    {
     "name": "stderr",
     "output_type": "stream",
     "text": [
      "C:\\Users\\apand\\AppData\\Local\\Continuum\\anaconda3\\lib\\site-packages\\scipy\\integrate\\odepack.py:247: ODEintWarning: Repeated convergence failures (perhaps bad Jacobian or tolerances). Run with full_output = 1 to get quantitative information.\n",
      "  warnings.warn(warning_msg, ODEintWarning)\n"
     ]
    },
    {
     "name": "stdout",
     "output_type": "stream",
     "text": [
      "SSM Progress: |██████████████████████████████████████████████████| 100.0% Complete\n",
      "attempting : [0, 1, 3, 5, 8]|█████████-----------------------------------------| 19.2% Complete\n",
      "SSM Progress: |██████████████████████████████████████████████████| 100.0% Complete\n",
      "SSM Progress: |██████████████████████████████████████████████████| 100.0% Complete\n",
      "attempting : [0, 1, 3, 6, 8]|█████████-----------------------------------------| 19.2% Complete\n",
      "attempting : [0, 1, 3, 7, 8]\n",
      "attempting : [0, 1, 4, 5, 8]\n",
      "SSM Progress: |██████████████████████████████████████████████████| 100.0% Complete\n",
      "SSM Progress: |██████████████████████████████████████████████████| 100.0% Complete\n",
      "Robustness Metric Progress: |██████████████████████████████████████████████████| 100.0% Complete\n",
      "attempting : [0, 1, 4, 6, 8]\n",
      "attempting : [0, 1, 4, 7, 8]\n",
      "attempting : [0, 1, 5, 6, 8]\n",
      "attempting : [0, 1, 5, 7, 8]\n",
      "The error is zero or NaN, something wrong...continuing.\n"
     ]
    },
    {
     "name": "stderr",
     "output_type": "stream",
     "text": [
      "<string>:4: RuntimeWarning: invalid value encountered in double_scalars\n",
      "<string>:4: RuntimeWarning: invalid value encountered in double_scalars\n"
     ]
    },
    {
     "name": "stdout",
     "output_type": "stream",
     "text": [
      "SSM Progress: |██████████████████████████████████████████████████| 100.0% Complete\n"
     ]
    },
    {
     "name": "stderr",
     "output_type": "stream",
     "text": [
      "<string>:4: RuntimeWarning: invalid value encountered in double_scalars\n"
     ]
    },
    {
     "name": "stdout",
     "output_type": "stream",
     "text": [
      "SSM Progress: |██████████████████████████████████████████████----| 93.9% Complete\r"
     ]
    },
    {
     "name": "stderr",
     "output_type": "stream",
     "text": [
      "C:\\Users\\apand\\synBio\\auto_reduce\\auto_reduce\\local_sensitivity.py:60: RuntimeWarning: invalid value encountered in add\n",
      "  Z[i] = (-F[0] + 8*F[1] - 8*F[2] + F[3])/(12*h)\n"
     ]
    },
    {
     "name": "stdout",
     "output_type": "stream",
     "text": [
      "SSM Progress: |██████████████████████████████████████████████████| 100.0% Complete\n",
      "attempting : [0, 1, 6, 7, 8]|█████████-----------------------------------------| 19.2% Complete\n",
      "attempting : [0, 2, 3, 4, 8]\n",
      "SSM Progress: |██████████████████████████████████████████████████| 100.0% Complete\n",
      "SSM Progress: |██████████████████████████████████████████████████| 100.0% Complete\n",
      "attempting : [0, 2, 3, 5, 8]|█████████-----------------------------------------| 19.2% Complete\n",
      "SSM Progress: |██████████████████████████████████████████████████| 100.0% Complete\n",
      "SSM Progress: |██████████████████████████████████████████████████| 100.0% Complete\n",
      "attempting : [0, 2, 3, 6, 8]|█████████-----------------------------------------| 19.2% Complete\n",
      "attempting : [0, 2, 3, 7, 8]\n",
      "attempting : [0, 2, 4, 5, 8]\n",
      "SSM Progress: |██████████████████████████████████████████████████| 100.0% Complete\n",
      "SSM Progress: |██████████████████████████████████████████████████| 100.0% Complete\n",
      "attempting : [0, 2, 4, 6, 8]|████████████████████████████████████████████------| 89.9% Complete\n",
      "attempting : [0, 2, 4, 7, 8]\n",
      "attempting : [0, 2, 5, 6, 8]\n",
      "attempting : [0, 2, 5, 7, 8]\n",
      "The error is zero or NaN, something wrong...continuing.\n"
     ]
    },
    {
     "name": "stderr",
     "output_type": "stream",
     "text": [
      "<string>:4: RuntimeWarning: invalid value encountered in double_scalars\n",
      "<string>:4: RuntimeWarning: invalid value encountered in double_scalars\n"
     ]
    },
    {
     "name": "stdout",
     "output_type": "stream",
     "text": [
      "SSM Progress: |██████████████████████████████████████████████████| 100.0% Complete\n"
     ]
    },
    {
     "name": "stderr",
     "output_type": "stream",
     "text": [
      "<string>:4: RuntimeWarning: invalid value encountered in double_scalars\n"
     ]
    },
    {
     "name": "stdout",
     "output_type": "stream",
     "text": [
      "SSM Progress: |██████████████████████████████████████████████████| 100.0% Complete\n",
      "attempting : [0, 2, 6, 7, 8]|█████████████████████████████---------------------| 59.6% Complete\n",
      "attempting : [0, 3, 4, 5, 8]\n",
      "attempting : [0, 3, 4, 6, 8]\n",
      "attempting : [0, 3, 4, 7, 8]\n",
      "attempting : [0, 3, 5, 6, 8]\n",
      "attempting : [0, 3, 5, 7, 8]\n",
      "attempting : [0, 3, 6, 7, 8]\n",
      "attempting : [0, 4, 5, 6, 8]\n",
      "attempting : [0, 4, 5, 7, 8]\n",
      "attempting : [0, 4, 6, 7, 8]\n",
      "attempting : [0, 5, 6, 7, 8]\n",
      "attempting : [1, 2, 3, 4, 8]\n",
      "SSM Progress: |██████████████████████████████████████████████████| 100.0% Complete\n",
      "SSM Progress: |██████████████████████████████████████████████████| 100.0% Complete\n",
      "Robustness Metric Progress: |██████████████████████████████████████████████████| 100.0% Complete\n",
      "attempting : [1, 2, 3, 5, 8]\n",
      "SSM Progress: |██████████████████████████████████████████████████| 100.0% Complete\n",
      "SSM Progress: |██████████████████████████████████████████████████| 100.0% Complete\n",
      "Robustness Metric Progress: |██████████████████████████████████████████████████| 100.0% Complete\n",
      "attempting : [1, 2, 3, 6, 8]\n",
      "attempting : [1, 2, 3, 7, 8]\n",
      "attempting : [1, 2, 4, 5, 8]\n",
      "SSM Progress: |██████████████████████████████████████████████████| 100.0% Complete\n",
      "SSM Progress: |██████████████████████████████████████████████████| 100.0% Complete\n",
      "Robustness Metric Progress: |██████████████████████████████████████████████████| 100.0% Complete\n",
      "attempting : [1, 2, 4, 6, 8]\n",
      "attempting : [1, 2, 4, 7, 8]\n",
      "attempting : [1, 2, 5, 6, 8]\n",
      "attempting : [1, 2, 5, 7, 8]\n",
      "The error is zero or NaN, something wrong...continuing.\n"
     ]
    },
    {
     "name": "stderr",
     "output_type": "stream",
     "text": [
      "<string>:4: RuntimeWarning: invalid value encountered in double_scalars\n",
      "<string>:4: RuntimeWarning: invalid value encountered in double_scalars\n"
     ]
    },
    {
     "name": "stdout",
     "output_type": "stream",
     "text": [
      "SSM Progress: |██████████████████████████████████████████████████| 100.0% Complete\n"
     ]
    },
    {
     "name": "stderr",
     "output_type": "stream",
     "text": [
      "<string>:4: RuntimeWarning: invalid value encountered in double_scalars\n"
     ]
    },
    {
     "name": "stdout",
     "output_type": "stream",
     "text": [
      "SSM Progress: |██████████████████████████████████████████████████| 100.0% Complete\n",
      "attempting : [1, 2, 6, 7, 8]|█████████████████████████████---------------------| 59.6% Complete\n",
      "attempting : [1, 3, 4, 5, 8]\n",
      "attempting : [1, 3, 4, 6, 8]\n",
      "attempting : [1, 3, 4, 7, 8]\n",
      "attempting : [1, 3, 5, 6, 8]\n",
      "attempting : [1, 3, 5, 7, 8]\n",
      "attempting : [1, 3, 6, 7, 8]\n",
      "attempting : [1, 4, 5, 6, 8]\n",
      "attempting : [1, 4, 5, 7, 8]\n",
      "attempting : [1, 4, 6, 7, 8]\n",
      "attempting : [1, 5, 6, 7, 8]\n",
      "attempting : [2, 3, 4, 5, 8]\n",
      "SSM Progress: |██████████████████████████████████████████████████| 100.0% Complete\n",
      "SSM Progress: |██████████████████████████████████████████████████| 100.0% Complete\n",
      "Robustness Metric Progress: |██████████████████████████████████████████████████| 100.0% Complete\n",
      "attempting : [2, 3, 4, 6, 8]\n",
      "SSM Progress: |██████████████████████████████████████████████████| 100.0% Complete\n",
      "SSM Progress: |██████████████████████████████████████████████████| 100.0% Complete\n",
      "Robustness Metric Progress: |██████████████████████████████████████████████████| 100.0% Complete\n",
      "attempting : [2, 3, 4, 7, 8]\n",
      "SSM Progress: |██████████████████████████████████████████████████| 100.0% Complete\n",
      "SSM Progress: |██████████████████████████████████████████████████| 100.0% Complete\n",
      "Robustness Metric Progress: |██████████████████████████████████████████████████| 100.0% Complete\n",
      "attempting : [2, 3, 5, 6, 8]\n",
      "SSM Progress: |██████████████████████████████████████████████████| 100.0% Complete\n",
      "SSM Progress: |██████████████████████████████████████████████████| 100.0% Complete\n",
      "Robustness Metric Progress: |██████████████████████████████████████████████████| 100.0% Complete\n",
      "attempting : [2, 3, 5, 7, 8]\n",
      "SSM Progress: |██████████████████████████████████████████████████| 100.0% Complete\n",
      "SSM Progress: |██████████████████████████████████████████████████| 100.0% Complete\n",
      "Robustness Metric Progress: |██████████████████████████████████████████████████| 100.0% Complete\n",
      "attempting : [2, 3, 6, 7, 8]\n",
      "attempting : [2, 4, 5, 6, 8]\n",
      "SSM Progress: |██████████████████████████████████████████████████| 100.0% Complete\n",
      "SSM Progress: |██████████████████████████████████████████████████| 100.0% Complete\n",
      "Robustness Metric Progress: |██████████████████████████████████████████████████| 100.0% Complete\n",
      "attempting : [2, 4, 5, 7, 8]\n",
      "SSM Progress: |██████████████████████████████████████████████████| 100.0% Complete\n",
      "SSM Progress: |██████████████████████████████████████████████████| 100.0% Complete\n",
      "Robustness Metric Progress: |██████████████████████████████████████████████████| 100.0% Complete\n",
      "attempting : [2, 4, 6, 7, 8]\n",
      "attempting : [2, 5, 6, 7, 8]\n",
      "attempting : [3, 4, 5, 6, 8]\n",
      "attempting : [3, 4, 5, 7, 8]\n",
      "attempting : [3, 4, 6, 7, 8]\n",
      "attempting : [3, 5, 6, 7, 8]\n",
      "attempting : [4, 5, 6, 7, 8]\n",
      "attempting : [0, 1, 2, 3, 4, 8]\n",
      "SSM Progress: |██████████████████████████████████████████████████| 100.0% Complete\n",
      "SSM Progress: |██████████████████████████████████████████████████| 100.0% Complete\n",
      "Robustness Metric Progress: |██████████████████████████████████████████████████| 100.0% Complete\n",
      "attempting : [0, 1, 2, 3, 5, 8]\n",
      "SSM Progress: |██████████████████████████████████████████████████| 100.0% Complete\n",
      "SSM Progress: |██████████████████████████████████████████████████| 100.0% Complete\n",
      "Robustness Metric Progress: |██████████████████████████████████████████████████| 100.0% Complete\n",
      "attempting : [0, 1, 2, 3, 6, 8]\n",
      "attempting : [0, 1, 2, 3, 7, 8]\n",
      "attempting : [0, 1, 2, 4, 5, 8]\n",
      "SSM Progress: |██████████████████████████████████████████████████| 100.0% Complete\n",
      "SSM Progress: |██████████████████████████████████████████████████| 100.0% Complete\n",
      "Robustness Metric Progress: |██████████████████████████████████████████████████| 100.0% Complete\n",
      "attempting : [0, 1, 2, 4, 6, 8]\n",
      "attempting : [0, 1, 2, 4, 7, 8]\n",
      "attempting : [0, 1, 2, 5, 6, 8]\n",
      "attempting : [0, 1, 2, 5, 7, 8]\n",
      "The error is zero or NaN, something wrong...continuing.\n"
     ]
    },
    {
     "name": "stderr",
     "output_type": "stream",
     "text": [
      "<string>:4: RuntimeWarning: invalid value encountered in double_scalars\n",
      "<string>:4: RuntimeWarning: invalid value encountered in double_scalars\n"
     ]
    },
    {
     "name": "stdout",
     "output_type": "stream",
     "text": [
      "SSM Progress: |██████████████████████████████████████████████████| 100.0% Complete\n"
     ]
    },
    {
     "name": "stderr",
     "output_type": "stream",
     "text": [
      "<string>:4: RuntimeWarning: invalid value encountered in double_scalars\n"
     ]
    },
    {
     "name": "stdout",
     "output_type": "stream",
     "text": [
      "SSM Progress: |██████████████████████████████████████████████████| 100.0% Complete\n",
      "attempting : [0, 1, 2, 6, 7, 8]\n",
      "attempting : [0, 1, 3, 4, 5, 8]\n",
      "The error is zero or NaN, something wrong...continuing.\n",
      "SSM Progress: |██████████████████████████████████████████████████| 100.0% Complete\n",
      "SSM Progress: |██████████████████████████████████████████████████| 100.0% Complete\n",
      "attempting : [0, 1, 3, 4, 6, 8]███████-----------------------------------------| 19.2% Complete\n",
      "The error is zero or NaN, something wrong...continuing.\n",
      "SSM Progress: |██████████████████████████████████████████████████| 100.0% Complete\n",
      "SSM Progress: |██████████████████████████████████████████████████| 100.0% Complete\n",
      "attempting : [0, 1, 3, 4, 7, 8]█████████████████-------------------------------| 39.4% Complete\n",
      "The error is zero or NaN, something wrong...continuing.\n",
      "SSM Progress: |██████████████████████████████████████████████████| 100.0% Complete\n",
      "SSM Progress: |██████████████████████████████████████████████████| 100.0% Complete\n",
      "attempting : [0, 1, 3, 5, 6, 8]█████████████████-------------------------------| 39.4% Complete\n",
      "The error is zero or NaN, something wrong...continuing.\n",
      "SSM Progress: |██████████████████████████████████████████████████| 100.0% Complete\n",
      "SSM Progress: |██████████████████████████████████████████████████| 100.0% Complete\n",
      "attempting : [0, 1, 3, 5, 7, 8]\n",
      "The error is zero or NaN, something wrong...continuing.\n",
      "SSM Progress: |██████████████████████████████████████████████████| 100.0% Complete\n",
      "SSM Progress: |██████████████████████████████████████████████████| 100.0% Complete\n",
      "attempting : [0, 1, 3, 6, 7, 8]███████-----------------------------------------| 19.2% Complete\n",
      "attempting : [0, 1, 4, 5, 6, 8]\n",
      "attempting : [0, 1, 4, 5, 7, 8]\n",
      "attempting : [0, 1, 4, 6, 7, 8]\n",
      "attempting : [0, 1, 5, 6, 7, 8]\n",
      "attempting : [0, 2, 3, 4, 5, 8]\n",
      "The error is zero or NaN, something wrong...continuing.\n",
      "SSM Progress: |██████████████████████████████████████████████████| 100.0% Complete\n",
      "SSM Progress: |██████████████████████████████████████████████████| 100.0% Complete\n",
      "Robustness Metric Progress: |██████████████████████████████████████████████████| 100.0% Complete\n",
      "attempting : [0, 2, 3, 4, 6, 8]\n",
      "SSM Progress: |██████████████████████████████████████████████████| 100.0% Complete\n",
      "SSM Progress: |██████████████████████████████████████████████████| 100.0% Complete\n",
      "Robustness Metric Progress: |██████████████████████████████████████████████████| 100.0% Complete\n",
      "attempting : [0, 2, 3, 4, 7, 8]\n",
      "SSM Progress: |██████████████████████████████████████████████████| 100.0% Complete\n",
      "SSM Progress: |██████████████████████████████████████████████████| 100.0% Complete\n",
      "Robustness Metric Progress: |██████████████████████████████████████████████████| 100.0% Complete\n",
      "attempting : [0, 2, 3, 5, 6, 8]\n",
      "SSM Progress: |██████████████████████████████████████████████████| 100.0% Complete\n",
      "SSM Progress: |██████████████████████████████████████████████████| 100.0% Complete\n",
      "Robustness Metric Progress: |██████████████████████████████████████████████████| 100.0% Complete\n",
      "attempting : [0, 2, 3, 5, 7, 8]\n",
      "SSM Progress: |██████████████████████████████████████████████████| 100.0% Complete\n",
      "SSM Progress: |██████████████████████████████████████████████████| 100.0% Complete\n",
      "Robustness Metric Progress: |██████████████████████████████████████████████████| 100.0% Complete\n",
      "attempting : [0, 2, 3, 6, 7, 8]\n",
      "attempting : [0, 2, 4, 5, 6, 8]\n",
      "SSM Progress: |██████████████████████████████████████████████████| 100.0% Complete\n",
      "SSM Progress: |██████████████████████████████████████████████████| 100.0% Complete\n",
      "Robustness Metric Progress: |██████████████████████████████████████████████████| 100.0% Complete\n",
      "attempting : [0, 2, 4, 5, 7, 8]\n",
      "SSM Progress: |██████████████████████████████████████████████████| 100.0% Complete\n",
      "SSM Progress: |██████████████████████████████████████████████████| 100.0% Complete\n",
      "Robustness Metric Progress: |██████████████████████████████████████████████████| 100.0% Complete\n",
      "attempting : [0, 2, 4, 6, 7, 8]\n",
      "attempting : [0, 2, 5, 6, 7, 8]\n",
      "attempting : [0, 3, 4, 5, 6, 8]\n",
      "attempting : [0, 3, 4, 5, 7, 8]\n",
      "attempting : [0, 3, 4, 6, 7, 8]\n",
      "attempting : [0, 3, 5, 6, 7, 8]\n",
      "attempting : [0, 4, 5, 6, 7, 8]\n",
      "attempting : [1, 2, 3, 4, 5, 8]\n",
      "SSM Progress: |██████████████████████████████████████████████████| 100.0% Complete\n",
      "SSM Progress: |██████████████████████████████████████████████████| 100.0% Complete\n",
      "Robustness Metric Progress: |██████████████████████████████████████████████████| 100.0% Complete\n",
      "attempting : [1, 2, 3, 4, 6, 8]\n",
      "SSM Progress: |██████████████████████████████████████████████████| 100.0% Complete\n",
      "SSM Progress: |██████████████████████████████████████████████████| 100.0% Complete\n",
      "Robustness Metric Progress: |██████████████████████████████████████████████████| 100.0% Complete\n",
      "attempting : [1, 2, 3, 4, 7, 8]\n",
      "SSM Progress: |██████████████████████████████████████████████████| 100.0% Complete\n",
      "SSM Progress: |██████████████████████████████████████████████████| 100.0% Complete\n",
      "Robustness Metric Progress: |██████████████████████████████████████████████████| 100.0% Complete\n",
      "attempting : [1, 2, 3, 5, 6, 8]\n",
      "SSM Progress: |██████████████████████████████████████████████████| 100.0% Complete\n",
      "SSM Progress: |██████████████████████████████████████████████████| 100.0% Complete\n",
      "Robustness Metric Progress: |██████████████████████████████████████████████████| 100.0% Complete\n",
      "attempting : [1, 2, 3, 5, 7, 8]\n",
      "SSM Progress: |██████████████████████████████████████████████████| 100.0% Complete\n",
      "SSM Progress: |██████████████████████████████████████████████████| 100.0% Complete\n",
      "Robustness Metric Progress: |██████████████████████████████████████████████████| 100.0% Complete\n",
      "attempting : [1, 2, 3, 6, 7, 8]\n",
      "attempting : [1, 2, 4, 5, 6, 8]\n",
      "SSM Progress: |██████████████████████████████████████████████████| 100.0% Complete\n",
      "SSM Progress: |██████████████████████████████████████████████████| 100.0% Complete\n",
      "Robustness Metric Progress: |██████████████████████████████████████████████████| 100.0% Complete\n",
      "attempting : [1, 2, 4, 5, 7, 8]\n",
      "SSM Progress: |██████████████████████████████████████████████████| 100.0% Complete\n",
      "SSM Progress: |██████████████████████████████████████████████████| 100.0% Complete\n",
      "Robustness Metric Progress: |██████████████████████████████████████████████████| 100.0% Complete\n",
      "attempting : [1, 2, 4, 6, 7, 8]\n",
      "attempting : [1, 2, 5, 6, 7, 8]\n",
      "attempting : [1, 3, 4, 5, 6, 8]\n",
      "attempting : [1, 3, 4, 5, 7, 8]\n",
      "attempting : [1, 3, 4, 6, 7, 8]\n",
      "attempting : [1, 3, 5, 6, 7, 8]\n",
      "attempting : [1, 4, 5, 6, 7, 8]\n",
      "attempting : [2, 3, 4, 5, 6, 8]\n",
      "SSM Progress: |██████████████████████████████████████████████████| 100.0% Complete\n",
      "SSM Progress: |██████████████████████████████████████████████████| 100.0% Complete\n",
      "Robustness Metric Progress: |██████████████████████████████████████████████████| 100.0% Complete\n",
      "attempting : [2, 3, 4, 5, 7, 8]\n",
      "SSM Progress: |██████████████████████████████████████████████████| 100.0% Complete\n",
      "SSM Progress: |██████████████████████████████████████████████████| 100.0% Complete\n",
      "Robustness Metric Progress: |██████████████████████████████████████████████████| 100.0% Complete\n",
      "attempting : [2, 3, 4, 6, 7, 8]\n",
      "SSM Progress: |██████████████████████████████████████████████████| 100.0% Complete\n",
      "SSM Progress: |██████████████████████████████████████████████████| 100.0% Complete\n",
      "Robustness Metric Progress: |██████████████████████████████████████████████████| 100.0% Complete\n",
      "attempting : [2, 3, 5, 6, 7, 8]\n",
      "SSM Progress: |██████████████████████████████████████████████████| 100.0% Complete\n",
      "SSM Progress: |██████████████████████████████████████████████████| 100.0% Complete\n",
      "Robustness Metric Progress: |██████████████████████████████████████████████████| 100.0% Complete\n",
      "attempting : [2, 4, 5, 6, 7, 8]\n",
      "SSM Progress: |██████████████████████████████████████████████████| 100.0% Complete\n",
      "SSM Progress: |██████████████████████████████████████████████████| 100.0% Complete\n",
      "attempting : [3, 4, 5, 6, 7, 8]\n"
     ]
    }
   ],
   "source": [
    "from auto_reduce.utils import reduce\n",
    "timepoints_ssm = np.linspace(0,100,10)\n",
    "timepoints_ode = np.linspace(0, 100, 100)\n",
    "sys_reduce = reduce(sys, timepoints_ode, timepoints_ssm)\n",
    "sys_reduce.nstates_tol = 6\n",
    "results = sys_reduce.reduce_Cx()"
   ]
  },
  {
   "cell_type": "code",
   "execution_count": 69,
   "metadata": {},
   "outputs": [],
   "source": [
    "from sympy.printing import latex\n",
    "f1 = open('gene_expression_model_reduction_results.txt', 'w')\n",
    "f1.write('Model reduction results.\\n')\n",
    "for key,value in results.items():\n",
    "    f1.write('A possible reduced model: \\n \\n')\n",
    "    f1.write('\\n$x_{hat} = ')\n",
    "    f1.write(str(key.x))\n",
    "    f1.write('$\\n\\n\\n\\n')\n",
    "    for k in range(len(key.f)):\n",
    "        f1.write('\\n$f_{hat}('+ str(k+1) + ') = ')\n",
    "        f1.write(latex(key.f[k]))\n",
    "        f1.write('$\\n\\n')\n",
    "    f1.write('\\n\\n\\n')\n",
    "    f1.write('\\nError metric:')\n",
    "    f1.write(str(value[0]))\n",
    "    f1.write('\\n\\n\\n')\n",
    "    f1.write('\\nRobustness metric:')\n",
    "    f1.write(str(value[1]))\n",
    "    f1.write('\\n\\n\\n')\n",
    "    f1.write('Other properties') \n",
    "    f1.write('\\n\\n\\n')\n",
    "    f1.write('\\n C = ')\n",
    "    f1.write(str(key.C))\n",
    "    f1.write('\\n g = ')\n",
    "    f1.write(str(key.g))\n",
    "    f1.write('\\n h = ')\n",
    "    f1.write(str(key.h))\n",
    "    f1.write('\\n h = ')\n",
    "    f1.write(str(key.h))\n",
    "    f1.write('\\n Solutions : \\n')\n",
    "#     f1.write(str(key.x_sol))\n",
    "    f1.write('\\n\\n\\n\\n')\n",
    "    f1.write('\\n Sensitivity Solutions : \\n')\n",
    "#     f1.write(str(key.S))\n",
    "    f1.write('\\n\\n\\n\\n')\n",
    "f1.close()"
   ]
  },
  {
   "cell_type": "code",
   "execution_count": 4,
   "metadata": {},
   "outputs": [],
   "source": [
    "sys_reduce.get_output_states()\n",
    "T, T1, T2 = sys_reduce.get_T([2,3])"
   ]
  },
  {
   "cell_type": "code",
   "execution_count": 7,
   "metadata": {},
   "outputs": [
    {
     "data": {
      "text/plain": [
       "array([[1., 0.],\n",
       "       [0., 1.],\n",
       "       [0., 0.],\n",
       "       [0., 0.]])"
      ]
     },
     "execution_count": 7,
     "metadata": {},
     "output_type": "execute_result"
    }
   ],
   "source": [
    "# sys_reduce.all_reductions\n",
    "# aa, bb = sys_reduce.solve_timescale_separation([2,3])\n",
    "T2"
   ]
  },
  {
   "cell_type": "code",
   "execution_count": 18,
   "metadata": {},
   "outputs": [
    {
     "data": {
      "text/plain": [
       "array([[1., 1.],\n",
       "       [1., 1.]])"
      ]
     },
     "execution_count": 18,
     "metadata": {},
     "output_type": "execute_result"
    }
   ],
   "source": [
    "aa.C"
   ]
  },
  {
   "cell_type": "code",
   "execution_count": null,
   "metadata": {},
   "outputs": [],
   "source": []
  }
 ],
 "metadata": {
  "kernelspec": {
   "display_name": "Python 3",
   "language": "python",
   "name": "python3"
  },
  "language_info": {
   "codemirror_mode": {
    "name": "ipython",
    "version": 3
   },
   "file_extension": ".py",
   "mimetype": "text/x-python",
   "name": "python",
   "nbconvert_exporter": "python",
   "pygments_lexer": "ipython3",
   "version": "3.7.3"
  }
 },
 "nbformat": 4,
 "nbformat_minor": 2
}
