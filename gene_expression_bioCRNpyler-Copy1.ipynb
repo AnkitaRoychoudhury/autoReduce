{
 "cells": [
  {
   "cell_type": "markdown",
   "metadata": {},
   "source": [
    "  $G_i + P \\quad[k^{b_P}_i]<->[k^{u_P}_i] \\quad  G_i:P \\\\\n",
    "    G_i:P \\quad  --> [k_i^{tx}] \\quad  G_i + P + T_i \\\\\n",
    "    T_i + R \\quad  [k^{b_R}_i]<->[k^{u_R}_i]\\quad   T_i:R \\\\\n",
    "    T_i:R  \\quad -->[k_i^{tl}]\\quad T_i + R + X_i \\\\\n",
    "    T_i + E \\quad  [k^{b_E}_i]<->[k^{u_E}_i] \\quad  T_i:E \\\\\n",
    "    T_i:E \\quad-->[\\delta_i]\\quad E \\\\\n",
    "    X \\quad-->[d]\\quad $"
   ]
  },
  {
   "cell_type": "code",
   "execution_count": 1,
   "metadata": {},
   "outputs": [],
   "source": [
    "%matplotlib inline\n",
    "from auto_reduce import *\n",
    "import numpy as np\n",
    "from sympy import symbols"
   ]
  },
  {
   "cell_type": "code",
   "execution_count": 2,
   "metadata": {},
   "outputs": [],
   "source": [
    "# Post conservation law and other approximations phenomenological model at the RNA level\n",
    "n = 9 # Number of states : G, P, C1, T, R, C2, E, C3, X\n",
    "nouts = 1 # Number of outputs, X_i\n",
    "\n",
    "# Inputs by user \n",
    "x_init = np.zeros(n)\n",
    "x_init[0] = 10\n",
    "x_init[1] = 10000\n",
    "x_init[4] = 10000\n",
    "x_init[6] = 10000\n",
    "C = np.zeros((nouts,n), dtype=int)\n",
    "C[0][8] = 1\n",
    "\n",
    "nstates_tol = 8\n",
    "error_tol = 3000\n",
    "# System dynamics symbolically\n",
    "\n",
    "# k_bp, k_up, k_tx, k_br, k_ur, k_tl, k_be, k_ue, d_i, d = params, len(params) = 10\n",
    "\n",
    "x0 = symbols('G')\n",
    "x1 = symbols('P')\n",
    "x2 = symbols('C1') # G:P\n",
    "x3 = symbols('T')\n",
    "x4 = symbols('R')\n",
    "x5 = symbols('C2') # T:R\n",
    "x6 = symbols('E')\n",
    "x7 = symbols('C3') # T:E\n",
    "x8 = symbols('X')\n",
    "\n",
    "x = [x0, x1, x2, x3, x4, x5, x6, x7, x8]\n",
    "\n",
    "k_bp = symbols('k_bp')\n",
    "k_up = symbols('k_up')\n",
    "k_tx = symbols('k_tx')\n",
    "k_br = symbols('k_br')\n",
    "k_ur = symbols('k_ur')\n",
    "k_tl = symbols('k_tl')\n",
    "k_be = symbols('k_be')\n",
    "k_ue = symbols('k_ue')\n",
    "d_i = symbols('d_i')\n",
    "d = symbols('d')\n",
    "\n",
    "E_tot = symbols('E_tot')\n",
    "P_tot = symbols('P_tot')\n",
    "R_tot = symbols('R_tot')\n",
    "params = [k_bp, k_up, k_tx, k_br, k_ur, k_tl, k_be, k_ue, d_i, d, E_tot, P_tot, R_tot]\n",
    "f0 = (k_bp + k_tx) * x2 - k_up * x0 * x1\n",
    "f1 = (k_bp + k_tx) * x2 - k_up * x0 * x1\n",
    "f2 = k_bp * x0 * x1 - (k_up + k_tx)*x2\n",
    "f3 = k_tx * x2 + k_ur * x5 - k_br * x3 * x4\n",
    "f4 = (k_ur + k_tl) * x5 - k_br * x3 * x4\n",
    "f5 = k_br * x3 * x4 - (k_ur + k_tl) * x5\n",
    "f6 = (k_ue + d_i) * x7 - k_be * x3 * x6\n",
    "f7 = k_be * x3 * x6 - (k_ue + d_i) * x7\n",
    "f8 = k_tl * x5 - d * x8\n",
    "    \n",
    "f = [f0,f1,f2,f3,f4,f5,f6,f7,f8]\n",
    "# parameter values\n",
    "params_values = [100, 10, 4, 10, 0.25, 2, 10, 0.5, 1, 1, 1000, 1000, 1000]\n",
    "sys = System(x, f, params = params, params_values = params_values, C = C, x_init = x_init)"
   ]
  },
  {
   "cell_type": "code",
   "execution_count": null,
   "metadata": {},
   "outputs": [],
   "source": [
    "from auto_reduce.utils import get_ODE\n",
    "timepoints_ode = np.linspace(0, 20, 100)\n",
    "sys_ode = get_ODE(sys, timepoints_ode)\n",
    "sol = sys_ode.solve_system().T\n",
    "import matplotlib.pyplot as plt\n",
    "plt.plot(timepoints_ode, np.transpose(np.array(C)@sol))\n",
    "plt.xlabel('Time')\n",
    "plt.ylabel('[Outputs]')\n",
    "plt.show()"
   ]
  },
  {
   "cell_type": "code",
   "execution_count": null,
   "metadata": {},
   "outputs": [],
   "source": [
    "sol"
   ]
  },
  {
   "cell_type": "code",
   "execution_count": null,
   "metadata": {},
   "outputs": [],
   "source": [
    "from auto_reduce.utils import get_SSM\n",
    "timepoints_ssm = np.linspace(0,100,10)\n",
    "sys_ssm = get_SSM(sys, timepoints_ssm)\n",
    "# Ss = sys_ssm.compute_SSM() # len(timepoints) x len(params) x len(states)\n",
    "# out_Ss = []\n",
    "# for i in range(len(params)):\n",
    "#     out_Ss.append((np.array(C)@(Ss[:,i,:].T)))\n",
    "# out_Ss = np.reshape(np.array(out_Ss), (len(timepoints_ssm), len(params), nouts))"
   ]
  },
  {
   "cell_type": "code",
   "execution_count": null,
   "metadata": {},
   "outputs": [],
   "source": [
    "J1 = sys_ssm.compute_J([10,10,1000,5,10000,100,10000,5,10])\n",
    "import scipy\n",
    "scipy.linalg.eigvals(J1)"
   ]
  },
  {
   "cell_type": "code",
   "execution_count": null,
   "metadata": {},
   "outputs": [],
   "source": [
    "np.ones(9)"
   ]
  },
  {
   "cell_type": "code",
   "execution_count": null,
   "metadata": {},
   "outputs": [],
   "source": [
    "import seaborn as sn\n",
    "import matplotlib.pyplot as plt\n",
    "for j in range(nouts):\n",
    "    sn.heatmap(out_Ss[:,:,j].T)\n",
    "    plt.xlabel('Time')\n",
    "    plt.ylabel('Parameters')\n",
    "    plt.title('Sensitivity of output[{0}] with respect to all parameters'.format(j))\n",
    "    plt.show()"
   ]
  },
  {
   "cell_type": "code",
   "execution_count": 3,
   "metadata": {},
   "outputs": [],
   "source": [
    "from auto_reduce.utils import reduce\n",
    "timepoints_ssm = np.linspace(0,2,10)\n",
    "timepoints_ode = np.linspace(0,2,100)\n",
    "sys_reduce = reduce(sys, timepoints_ode, timepoints_ssm)\n",
    "sys_reduce.nstates_tol = 5"
   ]
  },
  {
   "cell_type": "code",
   "execution_count": 4,
   "metadata": {},
   "outputs": [],
   "source": [
    "G, P, C1, T, R, C2, E, C3, X = sys.x\n",
    "conserved_quantities = [P + C1 - P_tot, R + C2 - R_tot, E + C3 - E_tot]\n",
    "states_to_eliminate = [1,4,6]\n",
    "f_cons = sys_reduce.set_conservation_laws(conserved_quantities, states_to_eliminate)"
   ]
  },
  {
   "cell_type": "code",
   "execution_count": 5,
   "metadata": {},
   "outputs": [
    {
     "data": {
      "image/png": "[encoded data removed]",
      "text/plain": [
       "<Figure size 432x288 with 1 Axes>"
      ]
     },
     "metadata": {
      "needs_background": "light"
     },
     "output_type": "display_data"
    }
   ],
   "source": [
    "from auto_reduce.utils import get_ODE\n",
    "timepoints_ode = np.linspace(0, 2, 100)\n",
    "params_values = [100, 10, 4, 10, 0.25, 2, 10, 0.5, 1, 10, 1000, 1000, 1000]\n",
    "sys_reduce.params_values = params_values\n",
    "sys_ode = get_ODE(sys_reduce, timepoints_ode)\n",
    "sol = sys_ode.solve_system().T\n",
    "import matplotlib.pyplot as plt\n",
    "plt.plot(timepoints_ode, np.transpose(np.array(sys_reduce.C)@sol))\n",
    "plt.xlabel('Time')\n",
    "plt.ylabel('[Outputs]')\n",
    "plt.show()"
   ]
  },
  {
   "cell_type": "code",
   "execution_count": 6,
   "metadata": {},
   "outputs": [
    {
     "name": "stdout",
     "output_type": "stream",
     "text": [
      "attempting : [5]\n",
      "The time-scale separation that retains states [5] does not work\n",
      "attempting : [0, 5]\n",
      "The time-scale separation that retains states [0, 5] does not work\n",
      "attempting : [1, 5]\n",
      "The time-scale separation that retains states [1, 5] does not work\n",
      "attempting : [2, 5]\n",
      "The time-scale separation that retains states [2, 5] does not work\n",
      "attempting : [3, 5]\n",
      "The time-scale separation that retains states [3, 5] does not work\n",
      "attempting : [4, 5]\n",
      "The time-scale separation that retains states [4, 5] does not work\n",
      "attempting : [0, 1, 5]\n",
      "The time-scale separation that retains states [0, 1, 5] does not work\n",
      "attempting : [0, 2, 5]\n"
     ]
    },
    {
     "name": "stderr",
     "output_type": "stream",
     "text": [
      "C:\\Users\\apand\\AppData\\Local\\Continuum\\anaconda3\\lib\\site-packages\\scipy\\integrate\\odepack.py:247: ODEintWarning: Excess work done on this call (perhaps wrong Dfun type). Run with full_output = 1 to get quantitative information.\n",
      "  warnings.warn(warning_msg, ODEintWarning)\n"
     ]
    },
    {
     "name": "stdout",
     "output_type": "stream",
     "text": [
      "attempting : [0, 3, 5]\n",
      "attempting : [0, 4, 5]\n",
      "The time-scale separation that retains states [0, 4, 5] does not work\n",
      "attempting : [1, 2, 5]\n",
      "attempting : [1, 3, 5]\n",
      "attempting : [1, 4, 5]\n",
      "The time-scale separation that retains states [1, 4, 5] does not work\n",
      "attempting : [2, 3, 5]\n",
      "The time-scale separation that retains states [2, 3, 5] does not work\n",
      "attempting : [2, 4, 5]\n",
      "The time-scale separation that retains states [2, 4, 5] does not work\n",
      "attempting : [3, 4, 5]\n",
      "The time-scale separation that retains states [3, 4, 5] does not work\n",
      "attempting : [0, 1, 2, 5]\n",
      "attempting : [0, 1, 3, 5]\n",
      "attempting : [0, 1, 4, 5]\n",
      "The time-scale separation that retains states [0, 1, 4, 5] does not work\n",
      "attempting : [0, 2, 3, 5]\n",
      "attempting : [0, 2, 4, 5]\n",
      "attempting : [0, 3, 4, 5]\n",
      "attempting : [1, 2, 3, 5]\n",
      "attempting : [1, 2, 4, 5]\n",
      "attempting : [1, 3, 4, 5]\n",
      "attempting : [2, 3, 4, 5]\n",
      "The time-scale separation that retains states [2, 3, 4, 5] does not work\n",
      "attempting : [0, 1, 2, 3, 5]\n",
      "attempting : [0, 1, 2, 4, 5]\n",
      "attempting : [0, 1, 3, 4, 5]\n",
      "attempting : [0, 2, 3, 4, 5]\n",
      "attempting : [1, 2, 3, 4, 5]\n"
     ]
    }
   ],
   "source": [
    "results = sys_reduce.reduce_Cx()\n",
    "# reduced_sys, fast_ss = sys_reduce.solve_timescale_separation([0,2,5])\n",
    "# sys_reduce.get_robustness_metric(reduced_sys, fast_ss, [0,2,5])\n",
    "# sys_reduce.get_error_metric(reduced_sys)"
   ]
  },
  {
   "cell_type": "code",
   "execution_count": null,
   "metadata": {},
   "outputs": [],
   "source": [
    "reduced_sys, fast_ss = sys_reduce.solve_timescale_separation([1,3,5])\n",
    "reduced_sys.f[1]\n",
    "# from auto_reduce.utils import get_ODE\n",
    "x_sol_hat = get_ODE(sys_reduce.get_system(), timepoints_ode).solve_system()"
   ]
  },
  {
   "cell_type": "code",
   "execution_count": 13,
   "metadata": {},
   "outputs": [
    {
     "data": {
      "image/png": "[encoded data removed]",
      "text/plain": [
       "<Figure size 432x288 with 1 Axes>"
      ]
     },
     "metadata": {
      "needs_background": "light"
     },
     "output_type": "display_data"
    }
   ],
   "source": [
    "# results\n",
    "import matplotlib.pyplot as plt\n",
    "for key, value in results.items():\n",
    "    plt.scatter(value[0], key.n,linewidths = 2.5, label = str(key.x))\n",
    "plt.legend()\n",
    "plt.savefig('enzymatic_rxn_e.svg')"
   ]
  },
  {
   "cell_type": "code",
   "execution_count": null,
   "metadata": {},
   "outputs": [],
   "source": [
    "def get_gamma(system_obj, input, output):\n",
    "    "
   ]
  },
  {
   "cell_type": "code",
   "execution_count": null,
   "metadata": {},
   "outputs": [],
   "source": []
  },
  {
   "cell_type": "code",
   "execution_count": null,
   "metadata": {},
   "outputs": [],
   "source": [
    "import matplotlib.pyplot as plt\n",
    "y_hat = sys_reduce.C@x_sol_hat.T\n",
    "plt.plot(timepoints_ode,y_hat.T)"
   ]
  },
  {
   "cell_type": "code",
   "execution_count": null,
   "metadata": {},
   "outputs": [],
   "source": [
    "from auto_reduce.utils import reduce_utils\n",
    "rx = reduce_utils(sys_reduce)\n",
    "rx.write_results('gene_expression_results.txt')"
   ]
  }
 ],
 "metadata": {
  "kernelspec": {
   "display_name": "Python 3",
   "language": "python",
   "name": "python3"
  },
  "language_info": {
   "codemirror_mode": {
    "name": "ipython",
    "version": 3
   },
   "file_extension": ".py",
   "mimetype": "text/x-python",
   "name": "python",
   "nbconvert_exporter": "python",
   "pygments_lexer": "ipython3",
   "version": "3.7.4"
  }
 },
 "nbformat": 4,
 "nbformat_minor": 2
}
