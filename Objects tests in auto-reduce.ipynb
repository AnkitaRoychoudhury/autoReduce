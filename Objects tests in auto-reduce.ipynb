{
 "cells": [
  {
   "cell_type": "code",
   "execution_count": 1,
   "metadata": {},
   "outputs": [],
   "source": [
    "from auto_reduce import *"
   ]
  },
  {
   "cell_type": "code",
   "execution_count": 2,
   "metadata": {},
   "outputs": [
    {
     "name": "stdout",
     "output_type": "stream",
     "text": [
      "The states : [x0, x1]\n",
      "The dynamics f : [P0*x1 - x0**2, -P1*x1]\n",
      "The dynamics P : [P0, P1]\n"
     ]
    }
   ],
   "source": [
    "# Create symbolic objects\n",
    "x, f, P = load_ODE_model(2, 2)\n",
    "f[0] = -x[0]**2 + P[0]*x[1]\n",
    "f[1] = -P[1]*x[1]\n",
    "print('The states : {0}'.format(x))\n",
    "print('The dynamics f : {0}'.format(f))\n",
    "print('The dynamics P : {0}'.format(P))\n",
    "C = np.array([[0,1]]).tolist()"
   ]
  },
  {
   "cell_type": "code",
   "execution_count": 3,
   "metadata": {},
   "outputs": [],
   "source": [
    "# System class\n",
    "sys = System(x, f, params = P, C = C)"
   ]
  },
  {
   "cell_type": "code",
   "execution_count": 4,
   "metadata": {},
   "outputs": [],
   "source": [
    "# Solve ODE from System\n",
    "timepoints = np.linspace(0,20,100)\n",
    "sys.params_values = [2, 4]\n",
    "sys.x_init = [0,10]\n",
    "sys_ode = ODE(sys.x, sys.f, params = sys.params, params_values = sys.params_values,\n",
    "              C = sys.C, x_init = sys.x_init, timepoints = timepoints)\n",
    "solution = sys_ode.solve_system()"
   ]
  },
  {
   "cell_type": "code",
   "execution_count": 5,
   "metadata": {},
   "outputs": [],
   "source": [
    "# Solve for sensitivity analysis from System\n",
    "timepoints = np.linspace(0,20,10)\n",
    "sys.params_values = [2, 4]\n",
    "sys.x_init = [0,10]\n",
    "sys_ssm = SSM(sys.x, sys.f, params = sys.params, params_values = sys.params_values,\n",
    "              C = sys.C, x_init = sys.x_init, timepoints = timepoints)\n",
    "solution = sys_ssm.compute_SSM()"
   ]
  },
  {
   "cell_type": "code",
   "execution_count": 9,
   "metadata": {},
   "outputs": [],
   "source": [
    "J = sys_ssm.compute_J([2,1])\n",
    "Z = sys_ssm.compute_Zj([2,1], 1)"
   ]
  },
  {
   "cell_type": "code",
   "execution_count": 10,
   "metadata": {},
   "outputs": [
    {
     "data": {
      "text/plain": [
       "array([[-2.06,  1.  ],\n",
       "       [ 0.  , -2.  ]])"
      ]
     },
     "execution_count": 10,
     "metadata": {},
     "output_type": "execute_result"
    }
   ],
   "source": [
    "J"
   ]
  },
  {
   "cell_type": "code",
   "execution_count": 11,
   "metadata": {},
   "outputs": [
    {
     "data": {
      "text/plain": [
       "array([ 0. , -0.5])"
      ]
     },
     "execution_count": 11,
     "metadata": {},
     "output_type": "execute_result"
    }
   ],
   "source": [
    "Z"
   ]
  },
  {
   "cell_type": "code",
   "execution_count": 25,
   "metadata": {},
   "outputs": [
    {
     "data": {
      "text/plain": [
       "[1, 2, 3, 1, 2, 3, 1, 2, 3]"
      ]
     },
     "execution_count": 25,
     "metadata": {},
     "output_type": "execute_result"
    }
   ],
   "source": [
    "aa = np.array([1,2,3])\n",
    "bb = [1,2,3]\n",
    "bb*3"
   ]
  },
  {
   "cell_type": "code",
   "execution_count": null,
   "metadata": {},
   "outputs": [],
   "source": []
  }
 ],
 "metadata": {
  "kernelspec": {
   "display_name": "Python 3",
   "language": "python",
   "name": "python3"
  },
  "language_info": {
   "codemirror_mode": {
    "name": "ipython",
    "version": 3
   },
   "file_extension": ".py",
   "mimetype": "text/x-python",
   "name": "python",
   "nbconvert_exporter": "python",
   "pygments_lexer": "ipython3",
   "version": "3.7.3"
  }
 },
 "nbformat": 4,
 "nbformat_minor": 2
}
